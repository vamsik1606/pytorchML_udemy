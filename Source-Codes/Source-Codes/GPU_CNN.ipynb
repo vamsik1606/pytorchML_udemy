{
  "nbformat": 4,
  "nbformat_minor": 0,
  "metadata": {
    "colab": {
      "provenance": []
    },
    "kernelspec": {
      "name": "python3",
      "display_name": "Python 3"
    },
    "language_info": {
      "name": "python"
    },
    "accelerator": "GPU",
    "gpuClass": "standard",
    "widgets": {
      "application/vnd.jupyter.widget-state+json": {
        "be2ad42d2424421c8be5eab1b460743f": {
          "model_module": "@jupyter-widgets/controls",
          "model_name": "HBoxModel",
          "model_module_version": "1.5.0",
          "state": {
            "_dom_classes": [],
            "_model_module": "@jupyter-widgets/controls",
            "_model_module_version": "1.5.0",
            "_model_name": "HBoxModel",
            "_view_count": null,
            "_view_module": "@jupyter-widgets/controls",
            "_view_module_version": "1.5.0",
            "_view_name": "HBoxView",
            "box_style": "",
            "children": [
              "IPY_MODEL_10e58323e2484ce080e6f424378e1a42",
              "IPY_MODEL_2f162149bc8643dc8c9d52b474d58833",
              "IPY_MODEL_4c026cb59d624f188fb0aa4ed3be36cf"
            ],
            "layout": "IPY_MODEL_714556ff099846f8ac2e9488910118f4"
          }
        },
        "10e58323e2484ce080e6f424378e1a42": {
          "model_module": "@jupyter-widgets/controls",
          "model_name": "HTMLModel",
          "model_module_version": "1.5.0",
          "state": {
            "_dom_classes": [],
            "_model_module": "@jupyter-widgets/controls",
            "_model_module_version": "1.5.0",
            "_model_name": "HTMLModel",
            "_view_count": null,
            "_view_module": "@jupyter-widgets/controls",
            "_view_module_version": "1.5.0",
            "_view_name": "HTMLView",
            "description": "",
            "description_tooltip": null,
            "layout": "IPY_MODEL_b280c346ee804e018b5fa9e1ac3b5c92",
            "placeholder": "​",
            "style": "IPY_MODEL_6bc02745a07543fba79faba379a85833",
            "value": "100%"
          }
        },
        "2f162149bc8643dc8c9d52b474d58833": {
          "model_module": "@jupyter-widgets/controls",
          "model_name": "FloatProgressModel",
          "model_module_version": "1.5.0",
          "state": {
            "_dom_classes": [],
            "_model_module": "@jupyter-widgets/controls",
            "_model_module_version": "1.5.0",
            "_model_name": "FloatProgressModel",
            "_view_count": null,
            "_view_module": "@jupyter-widgets/controls",
            "_view_module_version": "1.5.0",
            "_view_name": "ProgressView",
            "bar_style": "success",
            "description": "",
            "description_tooltip": null,
            "layout": "IPY_MODEL_22528494403d44bb84789492adb775f5",
            "max": 170498071,
            "min": 0,
            "orientation": "horizontal",
            "style": "IPY_MODEL_9fb2d991799940fcab5649eaf4224279",
            "value": 170498071
          }
        },
        "4c026cb59d624f188fb0aa4ed3be36cf": {
          "model_module": "@jupyter-widgets/controls",
          "model_name": "HTMLModel",
          "model_module_version": "1.5.0",
          "state": {
            "_dom_classes": [],
            "_model_module": "@jupyter-widgets/controls",
            "_model_module_version": "1.5.0",
            "_model_name": "HTMLModel",
            "_view_count": null,
            "_view_module": "@jupyter-widgets/controls",
            "_view_module_version": "1.5.0",
            "_view_name": "HTMLView",
            "description": "",
            "description_tooltip": null,
            "layout": "IPY_MODEL_e7f59733c6cc45f383d4d71b6befc98c",
            "placeholder": "​",
            "style": "IPY_MODEL_e7ad2fdc68cb4996bcb3b6dda498a420",
            "value": " 170498071/170498071 [00:03&lt;00:00, 42282111.56it/s]"
          }
        },
        "714556ff099846f8ac2e9488910118f4": {
          "model_module": "@jupyter-widgets/base",
          "model_name": "LayoutModel",
          "model_module_version": "1.2.0",
          "state": {
            "_model_module": "@jupyter-widgets/base",
            "_model_module_version": "1.2.0",
            "_model_name": "LayoutModel",
            "_view_count": null,
            "_view_module": "@jupyter-widgets/base",
            "_view_module_version": "1.2.0",
            "_view_name": "LayoutView",
            "align_content": null,
            "align_items": null,
            "align_self": null,
            "border": null,
            "bottom": null,
            "display": null,
            "flex": null,
            "flex_flow": null,
            "grid_area": null,
            "grid_auto_columns": null,
            "grid_auto_flow": null,
            "grid_auto_rows": null,
            "grid_column": null,
            "grid_gap": null,
            "grid_row": null,
            "grid_template_areas": null,
            "grid_template_columns": null,
            "grid_template_rows": null,
            "height": null,
            "justify_content": null,
            "justify_items": null,
            "left": null,
            "margin": null,
            "max_height": null,
            "max_width": null,
            "min_height": null,
            "min_width": null,
            "object_fit": null,
            "object_position": null,
            "order": null,
            "overflow": null,
            "overflow_x": null,
            "overflow_y": null,
            "padding": null,
            "right": null,
            "top": null,
            "visibility": null,
            "width": null
          }
        },
        "b280c346ee804e018b5fa9e1ac3b5c92": {
          "model_module": "@jupyter-widgets/base",
          "model_name": "LayoutModel",
          "model_module_version": "1.2.0",
          "state": {
            "_model_module": "@jupyter-widgets/base",
            "_model_module_version": "1.2.0",
            "_model_name": "LayoutModel",
            "_view_count": null,
            "_view_module": "@jupyter-widgets/base",
            "_view_module_version": "1.2.0",
            "_view_name": "LayoutView",
            "align_content": null,
            "align_items": null,
            "align_self": null,
            "border": null,
            "bottom": null,
            "display": null,
            "flex": null,
            "flex_flow": null,
            "grid_area": null,
            "grid_auto_columns": null,
            "grid_auto_flow": null,
            "grid_auto_rows": null,
            "grid_column": null,
            "grid_gap": null,
            "grid_row": null,
            "grid_template_areas": null,
            "grid_template_columns": null,
            "grid_template_rows": null,
            "height": null,
            "justify_content": null,
            "justify_items": null,
            "left": null,
            "margin": null,
            "max_height": null,
            "max_width": null,
            "min_height": null,
            "min_width": null,
            "object_fit": null,
            "object_position": null,
            "order": null,
            "overflow": null,
            "overflow_x": null,
            "overflow_y": null,
            "padding": null,
            "right": null,
            "top": null,
            "visibility": null,
            "width": null
          }
        },
        "6bc02745a07543fba79faba379a85833": {
          "model_module": "@jupyter-widgets/controls",
          "model_name": "DescriptionStyleModel",
          "model_module_version": "1.5.0",
          "state": {
            "_model_module": "@jupyter-widgets/controls",
            "_model_module_version": "1.5.0",
            "_model_name": "DescriptionStyleModel",
            "_view_count": null,
            "_view_module": "@jupyter-widgets/base",
            "_view_module_version": "1.2.0",
            "_view_name": "StyleView",
            "description_width": ""
          }
        },
        "22528494403d44bb84789492adb775f5": {
          "model_module": "@jupyter-widgets/base",
          "model_name": "LayoutModel",
          "model_module_version": "1.2.0",
          "state": {
            "_model_module": "@jupyter-widgets/base",
            "_model_module_version": "1.2.0",
            "_model_name": "LayoutModel",
            "_view_count": null,
            "_view_module": "@jupyter-widgets/base",
            "_view_module_version": "1.2.0",
            "_view_name": "LayoutView",
            "align_content": null,
            "align_items": null,
            "align_self": null,
            "border": null,
            "bottom": null,
            "display": null,
            "flex": null,
            "flex_flow": null,
            "grid_area": null,
            "grid_auto_columns": null,
            "grid_auto_flow": null,
            "grid_auto_rows": null,
            "grid_column": null,
            "grid_gap": null,
            "grid_row": null,
            "grid_template_areas": null,
            "grid_template_columns": null,
            "grid_template_rows": null,
            "height": null,
            "justify_content": null,
            "justify_items": null,
            "left": null,
            "margin": null,
            "max_height": null,
            "max_width": null,
            "min_height": null,
            "min_width": null,
            "object_fit": null,
            "object_position": null,
            "order": null,
            "overflow": null,
            "overflow_x": null,
            "overflow_y": null,
            "padding": null,
            "right": null,
            "top": null,
            "visibility": null,
            "width": null
          }
        },
        "9fb2d991799940fcab5649eaf4224279": {
          "model_module": "@jupyter-widgets/controls",
          "model_name": "ProgressStyleModel",
          "model_module_version": "1.5.0",
          "state": {
            "_model_module": "@jupyter-widgets/controls",
            "_model_module_version": "1.5.0",
            "_model_name": "ProgressStyleModel",
            "_view_count": null,
            "_view_module": "@jupyter-widgets/base",
            "_view_module_version": "1.2.0",
            "_view_name": "StyleView",
            "bar_color": null,
            "description_width": ""
          }
        },
        "e7f59733c6cc45f383d4d71b6befc98c": {
          "model_module": "@jupyter-widgets/base",
          "model_name": "LayoutModel",
          "model_module_version": "1.2.0",
          "state": {
            "_model_module": "@jupyter-widgets/base",
            "_model_module_version": "1.2.0",
            "_model_name": "LayoutModel",
            "_view_count": null,
            "_view_module": "@jupyter-widgets/base",
            "_view_module_version": "1.2.0",
            "_view_name": "LayoutView",
            "align_content": null,
            "align_items": null,
            "align_self": null,
            "border": null,
            "bottom": null,
            "display": null,
            "flex": null,
            "flex_flow": null,
            "grid_area": null,
            "grid_auto_columns": null,
            "grid_auto_flow": null,
            "grid_auto_rows": null,
            "grid_column": null,
            "grid_gap": null,
            "grid_row": null,
            "grid_template_areas": null,
            "grid_template_columns": null,
            "grid_template_rows": null,
            "height": null,
            "justify_content": null,
            "justify_items": null,
            "left": null,
            "margin": null,
            "max_height": null,
            "max_width": null,
            "min_height": null,
            "min_width": null,
            "object_fit": null,
            "object_position": null,
            "order": null,
            "overflow": null,
            "overflow_x": null,
            "overflow_y": null,
            "padding": null,
            "right": null,
            "top": null,
            "visibility": null,
            "width": null
          }
        },
        "e7ad2fdc68cb4996bcb3b6dda498a420": {
          "model_module": "@jupyter-widgets/controls",
          "model_name": "DescriptionStyleModel",
          "model_module_version": "1.5.0",
          "state": {
            "_model_module": "@jupyter-widgets/controls",
            "_model_module_version": "1.5.0",
            "_model_name": "DescriptionStyleModel",
            "_view_count": null,
            "_view_module": "@jupyter-widgets/base",
            "_view_module_version": "1.2.0",
            "_view_name": "StyleView",
            "description_width": ""
          }
        }
      }
    }
  },
  "cells": [
    {
      "cell_type": "code",
      "execution_count": 1,
      "metadata": {
        "id": "4jj-XbwQsi2C"
      },
      "outputs": [],
      "source": [
        "import torch\n",
        "import torch.nn as nn\n",
        "import torch.optim as optim\n",
        "import torchvision\n",
        "import torchvision.transforms as transforms\n",
        "import matplotlib.pyplot as plt"
      ]
    },
    {
      "cell_type": "code",
      "source": [
        "transform = transforms.Compose([transforms.ToTensor(),transforms.Normalize((0.5,0.5,0.5),(0.5,0.5,0.5))])\n",
        "trainset = torchvision.datasets.CIFAR10(root = './data',train = True, download = True,transform = transform)\n",
        "testset = torchvision.datasets.CIFAR10(root = './data',train = False, download = True,transform = transform)\n",
        "\n",
        "trainloader = torch.utils.data.DataLoader(trainset,batch_size = 64, shuffle=True, num_workers = 2)\n",
        "testloader = torch.utils.data.DataLoader(testset,batch_size = 64, shuffle=True, num_workers = 2)"
      ],
      "metadata": {
        "colab": {
          "base_uri": "https://localhost:8080/",
          "height": 103,
          "referenced_widgets": [
            "be2ad42d2424421c8be5eab1b460743f",
            "10e58323e2484ce080e6f424378e1a42",
            "2f162149bc8643dc8c9d52b474d58833",
            "4c026cb59d624f188fb0aa4ed3be36cf",
            "714556ff099846f8ac2e9488910118f4",
            "b280c346ee804e018b5fa9e1ac3b5c92",
            "6bc02745a07543fba79faba379a85833",
            "22528494403d44bb84789492adb775f5",
            "9fb2d991799940fcab5649eaf4224279",
            "e7f59733c6cc45f383d4d71b6befc98c",
            "e7ad2fdc68cb4996bcb3b6dda498a420"
          ]
        },
        "id": "o30-Lh_vstPC",
        "outputId": "6ea0a400-1952-402d-94f1-a84ed740e46b"
      },
      "execution_count": 2,
      "outputs": [
        {
          "output_type": "stream",
          "name": "stdout",
          "text": [
            "Downloading https://www.cs.toronto.edu/~kriz/cifar-10-python.tar.gz to ./data/cifar-10-python.tar.gz\n"
          ]
        },
        {
          "output_type": "display_data",
          "data": {
            "text/plain": [
              "  0%|          | 0/170498071 [00:00<?, ?it/s]"
            ],
            "application/vnd.jupyter.widget-view+json": {
              "version_major": 2,
              "version_minor": 0,
              "model_id": "be2ad42d2424421c8be5eab1b460743f"
            }
          },
          "metadata": {}
        },
        {
          "output_type": "stream",
          "name": "stdout",
          "text": [
            "Extracting ./data/cifar-10-python.tar.gz to ./data\n",
            "Files already downloaded and verified\n"
          ]
        }
      ]
    },
    {
      "cell_type": "code",
      "source": [
        "torch.cuda.is_available()"
      ],
      "metadata": {
        "colab": {
          "base_uri": "https://localhost:8080/"
        },
        "id": "7qAHmE3WtRSX",
        "outputId": "f14f750f-21c2-4f5a-8ff2-3c4eb1bb6a9a"
      },
      "execution_count": 3,
      "outputs": [
        {
          "output_type": "execute_result",
          "data": {
            "text/plain": [
              "True"
            ]
          },
          "metadata": {},
          "execution_count": 3
        }
      ]
    },
    {
      "cell_type": "code",
      "source": [
        "device = torch.device('cuda' if torch.cuda.is_available() else 'cpu')"
      ],
      "metadata": {
        "id": "WxLJOZm5uZN7"
      },
      "execution_count": 4,
      "outputs": []
    },
    {
      "cell_type": "code",
      "source": [
        "from torch.nn.modules.pooling import MaxPool2d\n",
        "class CNN(nn.Module):\n",
        "  def __init__(self):\n",
        "    super().__init__()\n",
        "    self.conv = nn.Sequential(\n",
        "       nn.Conv2d(in_channels=3, out_channels=16, kernel_size=3,stride=1,padding=1),  # (i-f+2p)/s  + 1  (32-3+2)/1  +1\n",
        "       nn.MaxPool2d(kernel_size=2,stride=2), # (M-P)/s + 1  (32-2)/2 + 1 = 16\n",
        "       nn.ReLU(),\n",
        "       nn.Conv2d(in_channels=16, out_channels=32, kernel_size=3,stride=1,padding=1), \n",
        "       nn.MaxPool2d(kernel_size=2,stride=2),   # (M-P)/s + 1  (16-2)/2 +1  = 8\n",
        "       nn.ReLU()\n",
        "    )\n",
        "    self.fc = nn.Sequential(\n",
        "       nn.Linear(in_features=32*8*8,out_features=64),\n",
        "       nn.ReLU(),\n",
        "       nn.Linear(in_features=64,out_features=10)  \n",
        "    )\n",
        "\n",
        "  def forward(self,x):\n",
        "    x = self.conv(x)\n",
        "    x = x.view(x.size(0),-1)\n",
        "    x = self.fc(x)\n",
        "    return x\n",
        "\n",
        "model = CNN().to(device)"
      ],
      "metadata": {
        "id": "35oC65r0szGL"
      },
      "execution_count": 5,
      "outputs": []
    },
    {
      "cell_type": "code",
      "source": [
        "criterion = nn.CrossEntropyLoss()\n",
        "optimizer = optim.SGD(model.parameters(),lr = 0.01)"
      ],
      "metadata": {
        "id": "va67m8mNvXE4"
      },
      "execution_count": 6,
      "outputs": []
    },
    {
      "cell_type": "code",
      "source": [
        "import time\n",
        "start_time = time.time()\n",
        "\n",
        "loss_list = []\n",
        "accuracy_list = []\n",
        "for epoch in range(30):\n",
        "    epoch_loss = 0\n",
        "    for images, labels in trainloader:\n",
        "        images = images.to(device)\n",
        "        labels = labels.to(device)\n",
        "        outputs = model(images)\n",
        "        loss = criterion(outputs, labels)\n",
        "\n",
        "        optimizer.zero_grad()\n",
        "        loss.backward()\n",
        "        optimizer.step()\n",
        "        \n",
        "        epoch_loss += loss.item()\n",
        "    \n",
        "    loss_list.append(epoch_loss / len(trainloader))\n",
        "\n",
        "        \n",
        "    with torch.no_grad():\n",
        "        correct = 0\n",
        "        total = 0\n",
        "        for images, labels in trainloader:\n",
        "            images = images.to(device)\n",
        "            labels = labels.to(device)\n",
        "            outputs = model(images)\n",
        "            _, predicted = torch.max(outputs.data, 1)\n",
        "            total += labels.size(0)\n",
        "            correct += (predicted == labels).sum().item()\n",
        "            accuracy = correct / total\n",
        "            accuracy_list.append(accuracy)\n",
        "\n",
        "        print(\"Epoch [{}/30] Training Accuracy: {:.4f}\".format(epoch + 1, correct / total),\"Loss: {:.4f}\".format(loss_list[-1]))\n",
        "\n",
        "print(\"Training took {:.2f} seconds\".format(time.time() - start_time))"
      ],
      "metadata": {
        "colab": {
          "base_uri": "https://localhost:8080/"
        },
        "id": "SDpvYiSCvdtq",
        "outputId": "6325a1f0-f899-4e5c-aec2-277e74e8d17c"
      },
      "execution_count": 7,
      "outputs": [
        {
          "output_type": "stream",
          "name": "stdout",
          "text": [
            "Epoch [1/30] Training Accuracy: 0.3449 Loss: 2.0977\n",
            "Epoch [2/30] Training Accuracy: 0.4102 Loss: 1.7341\n",
            "Epoch [3/30] Training Accuracy: 0.4610 Loss: 1.5525\n",
            "Epoch [4/30] Training Accuracy: 0.4907 Loss: 1.4220\n",
            "Epoch [5/30] Training Accuracy: 0.5242 Loss: 1.3283\n",
            "Epoch [6/30] Training Accuracy: 0.4906 Loss: 1.2600\n",
            "Epoch [7/30] Training Accuracy: 0.5662 Loss: 1.2049\n",
            "Epoch [8/30] Training Accuracy: 0.5977 Loss: 1.1558\n",
            "Epoch [9/30] Training Accuracy: 0.5066 Loss: 1.1157\n",
            "Epoch [10/30] Training Accuracy: 0.6188 Loss: 1.0757\n",
            "Epoch [11/30] Training Accuracy: 0.6269 Loss: 1.0381\n",
            "Epoch [12/30] Training Accuracy: 0.5764 Loss: 1.0048\n",
            "Epoch [13/30] Training Accuracy: 0.6555 Loss: 0.9750\n",
            "Epoch [14/30] Training Accuracy: 0.6653 Loss: 0.9449\n",
            "Epoch [15/30] Training Accuracy: 0.6911 Loss: 0.9156\n",
            "Epoch [16/30] Training Accuracy: 0.6448 Loss: 0.8880\n",
            "Epoch [17/30] Training Accuracy: 0.6486 Loss: 0.8653\n",
            "Epoch [18/30] Training Accuracy: 0.6857 Loss: 0.8416\n",
            "Epoch [19/30] Training Accuracy: 0.7162 Loss: 0.8209\n",
            "Epoch [20/30] Training Accuracy: 0.6948 Loss: 0.8001\n",
            "Epoch [21/30] Training Accuracy: 0.7161 Loss: 0.7803\n",
            "Epoch [22/30] Training Accuracy: 0.6894 Loss: 0.7595\n",
            "Epoch [23/30] Training Accuracy: 0.6835 Loss: 0.7408\n",
            "Epoch [24/30] Training Accuracy: 0.7695 Loss: 0.7241\n",
            "Epoch [25/30] Training Accuracy: 0.7647 Loss: 0.7051\n",
            "Epoch [26/30] Training Accuracy: 0.7216 Loss: 0.6876\n",
            "Epoch [27/30] Training Accuracy: 0.7678 Loss: 0.6694\n",
            "Epoch [28/30] Training Accuracy: 0.6756 Loss: 0.6517\n",
            "Epoch [29/30] Training Accuracy: 0.7743 Loss: 0.6357\n",
            "Epoch [30/30] Training Accuracy: 0.7673 Loss: 0.6183\n",
            "Training took 763.79 seconds\n"
          ]
        }
      ]
    },
    {
      "cell_type": "code",
      "source": [
        "with torch.no_grad():\n",
        "  correct = 0 \n",
        "  total = 0\n",
        "  for images, labels in testloader:\n",
        "    images = images.to(device)\n",
        "    labels = labels.to(device)\n",
        "    outputs = model(images)\n",
        "    _,predicted = torch.max(outputs.data,1)\n",
        "    total += labels.size(0)\n",
        "    correct += (predicted == labels).sum().item()\n",
        "  print('Test Accuracy: {:.4f}'.format(correct/total))"
      ],
      "metadata": {
        "id": "v38hHHwshx8S",
        "colab": {
          "base_uri": "https://localhost:8080/"
        },
        "outputId": "71ffce42-f4f4-4b8a-dac1-c01327ee65fc"
      },
      "execution_count": 8,
      "outputs": [
        {
          "output_type": "stream",
          "name": "stdout",
          "text": [
            "Test Accuracy: 0.6533\n"
          ]
        }
      ]
    },
    {
      "cell_type": "code",
      "source": [
        "save_state = {'model':model.state_dict(), 'optimizer':optimizer.state_dict()}\n",
        "torch.save(save_state, 'CNN_GPU.pth')"
      ],
      "metadata": {
        "id": "yyEUZi5KvFzK"
      },
      "execution_count": 9,
      "outputs": []
    },
    {
      "cell_type": "code",
      "source": [
        "state = torch.load('CNN_GPU.pth')\n",
        "model.load_state_dict(state['model'])\n",
        "optimizer.load_state_dict(state['optimizer'])"
      ],
      "metadata": {
        "id": "hJXpgnxpxZ3k"
      },
      "execution_count": 8,
      "outputs": []
    },
    {
      "cell_type": "code",
      "source": [
        "with torch.no_grad():\n",
        "  correct = 0 \n",
        "  total = 0\n",
        "  for images, labels in testloader:\n",
        "    images = images.to(device)\n",
        "    labels = labels.to(device)\n",
        "    outputs = model(images)\n",
        "    _,predicted = torch.max(outputs.data,1)\n",
        "    total += labels.size(0)\n",
        "    correct += (predicted == labels).sum().item()\n",
        "  print('Test Accuracy: {:.4f}'.format(correct/total))"
      ],
      "metadata": {
        "colab": {
          "base_uri": "https://localhost:8080/"
        },
        "id": "BZpwVufrygPy",
        "outputId": "5771552d-4a44-43eb-a7da-55baa6d7a35d"
      },
      "execution_count": 9,
      "outputs": [
        {
          "output_type": "stream",
          "name": "stdout",
          "text": [
            "Test Accuracy: 0.6533\n"
          ]
        }
      ]
    }
  ]
}