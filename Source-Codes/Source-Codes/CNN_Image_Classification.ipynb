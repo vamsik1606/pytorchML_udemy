{
  "nbformat": 4,
  "nbformat_minor": 0,
  "metadata": {
    "colab": {
      "provenance": []
    },
    "kernelspec": {
      "name": "python3",
      "display_name": "Python 3"
    },
    "language_info": {
      "name": "python"
    },
    "widgets": {
      "application/vnd.jupyter.widget-state+json": {
        "1ee6458738d046cf917beba8ea869469": {
          "model_module": "@jupyter-widgets/controls",
          "model_name": "HBoxModel",
          "model_module_version": "1.5.0",
          "state": {
            "_dom_classes": [],
            "_model_module": "@jupyter-widgets/controls",
            "_model_module_version": "1.5.0",
            "_model_name": "HBoxModel",
            "_view_count": null,
            "_view_module": "@jupyter-widgets/controls",
            "_view_module_version": "1.5.0",
            "_view_name": "HBoxView",
            "box_style": "",
            "children": [
              "IPY_MODEL_895d4d98f40848098b8a232797f69e18",
              "IPY_MODEL_912ab6cbd7b14b7bbfdc5702aa945f51",
              "IPY_MODEL_b83fc4831ea44ac4ab0a20328a23110a"
            ],
            "layout": "IPY_MODEL_3f1804fcf8544052b8faf2126d2c73f0"
          }
        },
        "895d4d98f40848098b8a232797f69e18": {
          "model_module": "@jupyter-widgets/controls",
          "model_name": "HTMLModel",
          "model_module_version": "1.5.0",
          "state": {
            "_dom_classes": [],
            "_model_module": "@jupyter-widgets/controls",
            "_model_module_version": "1.5.0",
            "_model_name": "HTMLModel",
            "_view_count": null,
            "_view_module": "@jupyter-widgets/controls",
            "_view_module_version": "1.5.0",
            "_view_name": "HTMLView",
            "description": "",
            "description_tooltip": null,
            "layout": "IPY_MODEL_0f9bcca9361141bcbff021fa974a8691",
            "placeholder": "​",
            "style": "IPY_MODEL_886de4c4aef44393b1e8fa66410976da",
            "value": "100%"
          }
        },
        "912ab6cbd7b14b7bbfdc5702aa945f51": {
          "model_module": "@jupyter-widgets/controls",
          "model_name": "FloatProgressModel",
          "model_module_version": "1.5.0",
          "state": {
            "_dom_classes": [],
            "_model_module": "@jupyter-widgets/controls",
            "_model_module_version": "1.5.0",
            "_model_name": "FloatProgressModel",
            "_view_count": null,
            "_view_module": "@jupyter-widgets/controls",
            "_view_module_version": "1.5.0",
            "_view_name": "ProgressView",
            "bar_style": "success",
            "description": "",
            "description_tooltip": null,
            "layout": "IPY_MODEL_0b0b3308273d4878b5ae5a070a2334b4",
            "max": 170498071,
            "min": 0,
            "orientation": "horizontal",
            "style": "IPY_MODEL_48c617d59b474fd4a3c18ce1e48dfc7f",
            "value": 170498071
          }
        },
        "b83fc4831ea44ac4ab0a20328a23110a": {
          "model_module": "@jupyter-widgets/controls",
          "model_name": "HTMLModel",
          "model_module_version": "1.5.0",
          "state": {
            "_dom_classes": [],
            "_model_module": "@jupyter-widgets/controls",
            "_model_module_version": "1.5.0",
            "_model_name": "HTMLModel",
            "_view_count": null,
            "_view_module": "@jupyter-widgets/controls",
            "_view_module_version": "1.5.0",
            "_view_name": "HTMLView",
            "description": "",
            "description_tooltip": null,
            "layout": "IPY_MODEL_39698d9b9c7c4fa9a058a3c6fd946a6a",
            "placeholder": "​",
            "style": "IPY_MODEL_7186f0d8d0e74a89ba7ce312c7fff4f8",
            "value": " 170498071/170498071 [00:02&lt;00:00, 83363628.83it/s]"
          }
        },
        "3f1804fcf8544052b8faf2126d2c73f0": {
          "model_module": "@jupyter-widgets/base",
          "model_name": "LayoutModel",
          "model_module_version": "1.2.0",
          "state": {
            "_model_module": "@jupyter-widgets/base",
            "_model_module_version": "1.2.0",
            "_model_name": "LayoutModel",
            "_view_count": null,
            "_view_module": "@jupyter-widgets/base",
            "_view_module_version": "1.2.0",
            "_view_name": "LayoutView",
            "align_content": null,
            "align_items": null,
            "align_self": null,
            "border": null,
            "bottom": null,
            "display": null,
            "flex": null,
            "flex_flow": null,
            "grid_area": null,
            "grid_auto_columns": null,
            "grid_auto_flow": null,
            "grid_auto_rows": null,
            "grid_column": null,
            "grid_gap": null,
            "grid_row": null,
            "grid_template_areas": null,
            "grid_template_columns": null,
            "grid_template_rows": null,
            "height": null,
            "justify_content": null,
            "justify_items": null,
            "left": null,
            "margin": null,
            "max_height": null,
            "max_width": null,
            "min_height": null,
            "min_width": null,
            "object_fit": null,
            "object_position": null,
            "order": null,
            "overflow": null,
            "overflow_x": null,
            "overflow_y": null,
            "padding": null,
            "right": null,
            "top": null,
            "visibility": null,
            "width": null
          }
        },
        "0f9bcca9361141bcbff021fa974a8691": {
          "model_module": "@jupyter-widgets/base",
          "model_name": "LayoutModel",
          "model_module_version": "1.2.0",
          "state": {
            "_model_module": "@jupyter-widgets/base",
            "_model_module_version": "1.2.0",
            "_model_name": "LayoutModel",
            "_view_count": null,
            "_view_module": "@jupyter-widgets/base",
            "_view_module_version": "1.2.0",
            "_view_name": "LayoutView",
            "align_content": null,
            "align_items": null,
            "align_self": null,
            "border": null,
            "bottom": null,
            "display": null,
            "flex": null,
            "flex_flow": null,
            "grid_area": null,
            "grid_auto_columns": null,
            "grid_auto_flow": null,
            "grid_auto_rows": null,
            "grid_column": null,
            "grid_gap": null,
            "grid_row": null,
            "grid_template_areas": null,
            "grid_template_columns": null,
            "grid_template_rows": null,
            "height": null,
            "justify_content": null,
            "justify_items": null,
            "left": null,
            "margin": null,
            "max_height": null,
            "max_width": null,
            "min_height": null,
            "min_width": null,
            "object_fit": null,
            "object_position": null,
            "order": null,
            "overflow": null,
            "overflow_x": null,
            "overflow_y": null,
            "padding": null,
            "right": null,
            "top": null,
            "visibility": null,
            "width": null
          }
        },
        "886de4c4aef44393b1e8fa66410976da": {
          "model_module": "@jupyter-widgets/controls",
          "model_name": "DescriptionStyleModel",
          "model_module_version": "1.5.0",
          "state": {
            "_model_module": "@jupyter-widgets/controls",
            "_model_module_version": "1.5.0",
            "_model_name": "DescriptionStyleModel",
            "_view_count": null,
            "_view_module": "@jupyter-widgets/base",
            "_view_module_version": "1.2.0",
            "_view_name": "StyleView",
            "description_width": ""
          }
        },
        "0b0b3308273d4878b5ae5a070a2334b4": {
          "model_module": "@jupyter-widgets/base",
          "model_name": "LayoutModel",
          "model_module_version": "1.2.0",
          "state": {
            "_model_module": "@jupyter-widgets/base",
            "_model_module_version": "1.2.0",
            "_model_name": "LayoutModel",
            "_view_count": null,
            "_view_module": "@jupyter-widgets/base",
            "_view_module_version": "1.2.0",
            "_view_name": "LayoutView",
            "align_content": null,
            "align_items": null,
            "align_self": null,
            "border": null,
            "bottom": null,
            "display": null,
            "flex": null,
            "flex_flow": null,
            "grid_area": null,
            "grid_auto_columns": null,
            "grid_auto_flow": null,
            "grid_auto_rows": null,
            "grid_column": null,
            "grid_gap": null,
            "grid_row": null,
            "grid_template_areas": null,
            "grid_template_columns": null,
            "grid_template_rows": null,
            "height": null,
            "justify_content": null,
            "justify_items": null,
            "left": null,
            "margin": null,
            "max_height": null,
            "max_width": null,
            "min_height": null,
            "min_width": null,
            "object_fit": null,
            "object_position": null,
            "order": null,
            "overflow": null,
            "overflow_x": null,
            "overflow_y": null,
            "padding": null,
            "right": null,
            "top": null,
            "visibility": null,
            "width": null
          }
        },
        "48c617d59b474fd4a3c18ce1e48dfc7f": {
          "model_module": "@jupyter-widgets/controls",
          "model_name": "ProgressStyleModel",
          "model_module_version": "1.5.0",
          "state": {
            "_model_module": "@jupyter-widgets/controls",
            "_model_module_version": "1.5.0",
            "_model_name": "ProgressStyleModel",
            "_view_count": null,
            "_view_module": "@jupyter-widgets/base",
            "_view_module_version": "1.2.0",
            "_view_name": "StyleView",
            "bar_color": null,
            "description_width": ""
          }
        },
        "39698d9b9c7c4fa9a058a3c6fd946a6a": {
          "model_module": "@jupyter-widgets/base",
          "model_name": "LayoutModel",
          "model_module_version": "1.2.0",
          "state": {
            "_model_module": "@jupyter-widgets/base",
            "_model_module_version": "1.2.0",
            "_model_name": "LayoutModel",
            "_view_count": null,
            "_view_module": "@jupyter-widgets/base",
            "_view_module_version": "1.2.0",
            "_view_name": "LayoutView",
            "align_content": null,
            "align_items": null,
            "align_self": null,
            "border": null,
            "bottom": null,
            "display": null,
            "flex": null,
            "flex_flow": null,
            "grid_area": null,
            "grid_auto_columns": null,
            "grid_auto_flow": null,
            "grid_auto_rows": null,
            "grid_column": null,
            "grid_gap": null,
            "grid_row": null,
            "grid_template_areas": null,
            "grid_template_columns": null,
            "grid_template_rows": null,
            "height": null,
            "justify_content": null,
            "justify_items": null,
            "left": null,
            "margin": null,
            "max_height": null,
            "max_width": null,
            "min_height": null,
            "min_width": null,
            "object_fit": null,
            "object_position": null,
            "order": null,
            "overflow": null,
            "overflow_x": null,
            "overflow_y": null,
            "padding": null,
            "right": null,
            "top": null,
            "visibility": null,
            "width": null
          }
        },
        "7186f0d8d0e74a89ba7ce312c7fff4f8": {
          "model_module": "@jupyter-widgets/controls",
          "model_name": "DescriptionStyleModel",
          "model_module_version": "1.5.0",
          "state": {
            "_model_module": "@jupyter-widgets/controls",
            "_model_module_version": "1.5.0",
            "_model_name": "DescriptionStyleModel",
            "_view_count": null,
            "_view_module": "@jupyter-widgets/base",
            "_view_module_version": "1.2.0",
            "_view_name": "StyleView",
            "description_width": ""
          }
        }
      }
    }
  },
  "cells": [
    {
      "cell_type": "code",
      "execution_count": null,
      "metadata": {
        "id": "8PSHcKsgH63e"
      },
      "outputs": [],
      "source": [
        "import torch\n",
        "import torch.nn as nn\n",
        "import torch.optim as optim\n",
        "import torchvision\n",
        "import torchvision.transforms as transforms\n",
        "import matplotlib.pyplot as plt"
      ]
    },
    {
      "cell_type": "code",
      "source": [
        "transform = transforms.Compose([transforms.ToTensor(),transforms.Normalize((0.5,0.5,0.5),(0.5,0.5,0.5))])\n",
        "trainset = torchvision.datasets.CIFAR10(root = './data',train = True, download = True,transform = transform)\n",
        "testset = torchvision.datasets.CIFAR10(root = './data',train = False, download = True,transform = transform)"
      ],
      "metadata": {
        "colab": {
          "base_uri": "https://localhost:8080/",
          "height": 101,
          "referenced_widgets": [
            "1ee6458738d046cf917beba8ea869469",
            "895d4d98f40848098b8a232797f69e18",
            "912ab6cbd7b14b7bbfdc5702aa945f51",
            "b83fc4831ea44ac4ab0a20328a23110a",
            "3f1804fcf8544052b8faf2126d2c73f0",
            "0f9bcca9361141bcbff021fa974a8691",
            "886de4c4aef44393b1e8fa66410976da",
            "0b0b3308273d4878b5ae5a070a2334b4",
            "48c617d59b474fd4a3c18ce1e48dfc7f",
            "39698d9b9c7c4fa9a058a3c6fd946a6a",
            "7186f0d8d0e74a89ba7ce312c7fff4f8"
          ]
        },
        "id": "gAvVOlBlKoHN",
        "outputId": "dbac9ab0-d22b-4a7f-828b-571dd515ebdd"
      },
      "execution_count": null,
      "outputs": [
        {
          "output_type": "stream",
          "name": "stdout",
          "text": [
            "Downloading https://www.cs.toronto.edu/~kriz/cifar-10-python.tar.gz to ./data/cifar-10-python.tar.gz\n"
          ]
        },
        {
          "output_type": "display_data",
          "data": {
            "text/plain": [
              "  0%|          | 0/170498071 [00:00<?, ?it/s]"
            ],
            "application/vnd.jupyter.widget-view+json": {
              "version_major": 2,
              "version_minor": 0,
              "model_id": "1ee6458738d046cf917beba8ea869469"
            }
          },
          "metadata": {}
        },
        {
          "output_type": "stream",
          "name": "stdout",
          "text": [
            "Extracting ./data/cifar-10-python.tar.gz to ./data\n",
            "Files already downloaded and verified\n"
          ]
        }
      ]
    },
    {
      "cell_type": "code",
      "source": [
        "trainset[0]"
      ],
      "metadata": {
        "colab": {
          "base_uri": "https://localhost:8080/"
        },
        "id": "ftU0JYC4NQog",
        "outputId": "2e094929-b15b-4c1e-eba0-a0bd7c36d6e4"
      },
      "execution_count": null,
      "outputs": [
        {
          "output_type": "execute_result",
          "data": {
            "text/plain": [
              "(tensor([[[-0.5373, -0.6627, -0.6078,  ...,  0.2392,  0.1922,  0.1608],\n",
              "          [-0.8745, -1.0000, -0.8588,  ..., -0.0353, -0.0667, -0.0431],\n",
              "          [-0.8039, -0.8745, -0.6157,  ..., -0.0745, -0.0588, -0.1451],\n",
              "          ...,\n",
              "          [ 0.6314,  0.5765,  0.5529,  ...,  0.2549, -0.5608, -0.5843],\n",
              "          [ 0.4118,  0.3569,  0.4588,  ...,  0.4431, -0.2392, -0.3490],\n",
              "          [ 0.3882,  0.3176,  0.4039,  ...,  0.6941,  0.1843, -0.0353]],\n",
              " \n",
              "         [[-0.5137, -0.6392, -0.6235,  ...,  0.0353, -0.0196, -0.0275],\n",
              "          [-0.8431, -1.0000, -0.9373,  ..., -0.3098, -0.3490, -0.3176],\n",
              "          [-0.8118, -0.9451, -0.7882,  ..., -0.3412, -0.3412, -0.4275],\n",
              "          ...,\n",
              "          [ 0.3333,  0.2000,  0.2627,  ...,  0.0431, -0.7569, -0.7333],\n",
              "          [ 0.0902, -0.0353,  0.1294,  ...,  0.1608, -0.5137, -0.5843],\n",
              "          [ 0.1294,  0.0118,  0.1137,  ...,  0.4431, -0.0745, -0.2784]],\n",
              " \n",
              "         [[-0.5059, -0.6471, -0.6627,  ..., -0.1529, -0.2000, -0.1922],\n",
              "          [-0.8431, -1.0000, -1.0000,  ..., -0.5686, -0.6078, -0.5529],\n",
              "          [-0.8353, -1.0000, -0.9373,  ..., -0.6078, -0.6078, -0.6706],\n",
              "          ...,\n",
              "          [-0.2471, -0.7333, -0.7961,  ..., -0.4510, -0.9451, -0.8431],\n",
              "          [-0.2471, -0.6706, -0.7647,  ..., -0.2627, -0.7333, -0.7333],\n",
              "          [-0.0902, -0.2627, -0.3176,  ...,  0.0980, -0.3412, -0.4353]]]), 6)"
            ]
          },
          "metadata": {},
          "execution_count": 3
        }
      ]
    },
    {
      "cell_type": "code",
      "source": [
        "trainloader = torch.utils.data.DataLoader(trainset,batch_size = 64, shuffle=True, num_workers = 2)\n",
        "testloader = torch.utils.data.DataLoader(testset,batch_size = 64, shuffle=True, num_workers = 2)"
      ],
      "metadata": {
        "id": "mztrusSFPKDQ"
      },
      "execution_count": null,
      "outputs": []
    },
    {
      "cell_type": "code",
      "source": [
        "image,label = trainset[0]\n",
        "print('Shape:',image.shape, '\\Label:',label)"
      ],
      "metadata": {
        "colab": {
          "base_uri": "https://localhost:8080/"
        },
        "id": "tFt7BmYPXbVy",
        "outputId": "e5426874-c16c-469e-f9aa-34f3c2623708"
      },
      "execution_count": null,
      "outputs": [
        {
          "output_type": "stream",
          "name": "stdout",
          "text": [
            "Shape: torch.Size([3, 32, 32]) \\Label: 6\n"
          ]
        }
      ]
    },
    {
      "cell_type": "markdown",
      "source": [
        "**Creating the Network**"
      ],
      "metadata": {
        "id": "bL_TQJr0S2je"
      }
    },
    {
      "cell_type": "code",
      "source": [
        "from torch.nn.modules.pooling import MaxPool2d\n",
        "class CNN(nn.Module):\n",
        "  def __init__(self):\n",
        "    super().__init__()\n",
        "    self.conv = nn.Sequential(\n",
        "       nn.Conv2d(in_channels=3, out_channels=16, kernel_size=3,stride=1,padding=1),  # (i-f+2p)/s  + 1  (32-3+2)/1  +1\n",
        "       nn.MaxPool2d(kernel_size=2,stride=2), # (M-P)/s + 1  (32-2)/2 + 1 = 16\n",
        "       nn.ReLU(),\n",
        "       nn.Conv2d(in_channels=16, out_channels=32, kernel_size=3,stride=1,padding=1), \n",
        "       nn.MaxPool2d(kernel_size=2,stride=2),   # (M-P)/s + 1  (16-2)/2 +1  = 8\n",
        "       nn.ReLU()\n",
        "    )\n",
        "    self.fc = nn.Sequential(\n",
        "       nn.Linear(in_features=32*8*8,out_features=64),\n",
        "       nn.ReLU(),\n",
        "       nn.Linear(in_features=64,out_features=10)  \n",
        "    )\n",
        "\n",
        "  def forward(self,x):\n",
        "    x = self.conv(x)\n",
        "    x = x.view(x.size(0),-1)\n",
        "    x = self.fc(x)\n",
        "    return x\n",
        "\n",
        "model = CNN()"
      ],
      "metadata": {
        "id": "_2xAKTesbidX"
      },
      "execution_count": null,
      "outputs": []
    },
    {
      "cell_type": "code",
      "source": [
        "criterion = nn.CrossEntropyLoss()\n",
        "optimizer = optim.SGD(model.parameters(),lr = 0.01)"
      ],
      "metadata": {
        "id": "hUvHl7ptbryZ"
      },
      "execution_count": null,
      "outputs": []
    },
    {
      "cell_type": "markdown",
      "source": [
        "**Training**"
      ],
      "metadata": {
        "id": "rn5TsCYGcV09"
      }
    },
    {
      "cell_type": "code",
      "source": [
        "import time\n",
        "start_time = time.time()\n",
        "\n",
        "loss_list = []\n",
        "accuracy_list = []\n",
        "for epoch in range(30):\n",
        "    epoch_loss = 0\n",
        "    for images, labels in trainloader:\n",
        "        outputs = model(images)\n",
        "        loss = criterion(outputs, labels)\n",
        "\n",
        "        optimizer.zero_grad()\n",
        "        loss.backward()\n",
        "        optimizer.step()\n",
        "        \n",
        "        epoch_loss += loss.item()\n",
        "    \n",
        "    loss_list.append(epoch_loss / len(trainloader))\n",
        "\n",
        "        \n",
        "    with torch.no_grad():\n",
        "        correct = 0\n",
        "        total = 0\n",
        "        for images, labels in trainloader:\n",
        "            outputs = model(images)\n",
        "            _, predicted = torch.max(outputs.data, 1)\n",
        "            total += labels.size(0)\n",
        "            correct += (predicted == labels).sum().item()\n",
        "            accuracy = correct / total\n",
        "            accuracy_list.append(accuracy)\n",
        "\n",
        "        print(\"Epoch [{}/30] Training Accuracy: {:.4f}\".format(epoch + 1, correct / total),\"Loss: {:.4f}\".format(loss_list[-1]))\n",
        "\n",
        "print(\"Training took {:.2f} seconds\".format(time.time() - start_time))"
      ],
      "metadata": {
        "colab": {
          "base_uri": "https://localhost:8080/"
        },
        "id": "PWpOBdGNzdxj",
        "outputId": "19129643-38ec-4712-be42-02fbdca40674"
      },
      "execution_count": null,
      "outputs": [
        {
          "output_type": "stream",
          "name": "stdout",
          "text": [
            "Epoch [1/30] Training Accuracy: 0.3080 Loss: 2.1137\n",
            "Epoch [2/30] Training Accuracy: 0.4075 Loss: 1.7140\n",
            "Epoch [3/30] Training Accuracy: 0.4824 Loss: 1.5133\n",
            "Epoch [4/30] Training Accuracy: 0.4648 Loss: 1.4055\n",
            "Epoch [5/30] Training Accuracy: 0.5349 Loss: 1.3284\n",
            "Epoch [6/30] Training Accuracy: 0.5615 Loss: 1.2653\n",
            "Epoch [7/30] Training Accuracy: 0.5144 Loss: 1.2118\n",
            "Epoch [8/30] Training Accuracy: 0.5665 Loss: 1.1631\n",
            "Epoch [9/30] Training Accuracy: 0.6144 Loss: 1.1148\n",
            "Epoch [10/30] Training Accuracy: 0.5933 Loss: 1.0736\n",
            "Epoch [11/30] Training Accuracy: 0.6343 Loss: 1.0342\n",
            "Epoch [12/30] Training Accuracy: 0.6145 Loss: 0.9974\n",
            "Epoch [13/30] Training Accuracy: 0.6283 Loss: 0.9634\n",
            "Epoch [14/30] Training Accuracy: 0.6494 Loss: 0.9337\n",
            "Epoch [15/30] Training Accuracy: 0.6425 Loss: 0.9049\n",
            "Epoch [16/30] Training Accuracy: 0.6854 Loss: 0.8756\n",
            "Epoch [17/30] Training Accuracy: 0.6453 Loss: 0.8535\n",
            "Epoch [18/30] Training Accuracy: 0.6581 Loss: 0.8314\n",
            "Epoch [19/30] Training Accuracy: 0.7062 Loss: 0.8065\n",
            "Epoch [20/30] Training Accuracy: 0.6899 Loss: 0.7848\n",
            "Epoch [21/30] Training Accuracy: 0.7364 Loss: 0.7647\n",
            "Epoch [22/30] Training Accuracy: 0.6892 Loss: 0.7457\n",
            "Epoch [23/30] Training Accuracy: 0.7476 Loss: 0.7263\n",
            "Epoch [24/30] Training Accuracy: 0.7518 Loss: 0.7080\n",
            "Epoch [25/30] Training Accuracy: 0.7284 Loss: 0.6890\n",
            "Epoch [26/30] Training Accuracy: 0.7538 Loss: 0.6711\n",
            "Epoch [27/30] Training Accuracy: 0.7582 Loss: 0.6530\n",
            "Epoch [28/30] Training Accuracy: 0.7570 Loss: 0.6337\n",
            "Epoch [29/30] Training Accuracy: 0.7827 Loss: 0.6170\n",
            "Epoch [30/30] Training Accuracy: 0.7374 Loss: 0.5999\n",
            "Training took 1324.77 seconds\n"
          ]
        }
      ]
    },
    {
      "cell_type": "code",
      "source": [
        "x = range(30)\n",
        "plt.plot(x,loss_list)\n",
        "plt.xlabel('iterations')\n",
        "plt.ylabel('loss')\n",
        "plt.show()"
      ],
      "metadata": {
        "colab": {
          "base_uri": "https://localhost:8080/",
          "height": 279
        },
        "id": "Eb83F5VRHmAf",
        "outputId": "3e07c4cd-0f50-4c9c-bcd7-c09a83fa953e"
      },
      "execution_count": null,
      "outputs": [
        {
          "output_type": "display_data",
          "data": {
            "text/plain": [
              "<Figure size 432x288 with 1 Axes>"
            ],
            "image/png": "[encoded data removed]"
          },
          "metadata": {
            "needs_background": "light"
          }
        }
      ]
    },
    {
      "cell_type": "markdown",
      "source": [
        "**Testing**"
      ],
      "metadata": {
        "id": "aS_ByPGSIgfo"
      }
    },
    {
      "cell_type": "code",
      "source": [
        "with torch.no_grad():\n",
        "  correct = 0 \n",
        "  total = 0\n",
        "  for images, labels in testloader:\n",
        "    outputs = model(images)\n",
        "    _,predicted = torch.max(outputs.data,1)\n",
        "    total += labels.size(0)\n",
        "    correct += (predicted == labels).sum().item()\n",
        "  print('Test Accuracy: {:.4f}'.format(correct/total))"
      ],
      "metadata": {
        "colab": {
          "base_uri": "https://localhost:8080/"
        },
        "id": "5tqW9jI_If9l",
        "outputId": "e38a9746-b3c3-47c1-e699-2d0c20851bc8"
      },
      "execution_count": null,
      "outputs": [
        {
          "output_type": "stream",
          "name": "stdout",
          "text": [
            "Test Accuracy: 0.6490\n"
          ]
        }
      ]
    },
    {
      "cell_type": "code",
      "source": [
        "from sklearn.metrics import confusion_matrix\n",
        "\n",
        "model.eval()\n",
        "with torch.no_grad():\n",
        "  correct = 0\n",
        "  total = 0\n",
        "  confusion_matrix = torch.zeros(10,10)\n",
        "  for images, labels in testloader:\n",
        "    outputs = model(images)\n",
        "    _,predicted = torch.max(outputs.data,1)\n",
        "    total += labels.size(0)\n",
        "    correct += (predicted == labels).sum().item()\n",
        "    for i,j in zip(predicted,labels):\n",
        "      confusion_matrix[i][j] += 1\n",
        "confusion_matrix = confusion_matrix.numpy().astype(int)\n",
        "print('Confusion Matrix')\n",
        "print(confusion_matrix)"
      ],
      "metadata": {
        "colab": {
          "base_uri": "https://localhost:8080/"
        },
        "id": "Q0v9epOKKap8",
        "outputId": "afd00343-0b4e-434e-9ae6-576d3556ae62"
      },
      "execution_count": null,
      "outputs": [
        {
          "output_type": "stream",
          "name": "stdout",
          "text": [
            "Confusion Matrix\n",
            "[[777  49  73  24  30   7   6  18  96  47]\n",
            " [  8 699   4   3   2   2   2   0  29  44]\n",
            " [ 27   6 379  20  33   6  16  13   7   4]\n",
            " [ 11   8  27 208  24  26  21  12  10   9]\n",
            " [ 12   0  96  31 549  26  33  32   4   5]\n",
            " [ 57  50 297 594 219 899 170 207  60  61]\n",
            " [ 11  17  69  71  52  11 744   5   9   7]\n",
            " [ 15  10  37  29  80  22   4 703   4  23]\n",
            " [ 45  21   8   6   8   1   3   0 749  17]\n",
            " [ 37 140  10  14   3   0   1  10  32 783]]\n"
          ]
        }
      ]
    },
    {
      "cell_type": "code",
      "source": [
        "accuracy = (confusion_matrix.diagonal().sum()/confusion_matrix.sum())*100\n",
        "print(f'Accuracy: {accuracy:.2f}%')"
      ],
      "metadata": {
        "colab": {
          "base_uri": "https://localhost:8080/"
        },
        "id": "X95GWXTYMMWl",
        "outputId": "90a5852e-b455-48ba-c894-302bc0c2e985"
      },
      "execution_count": null,
      "outputs": [
        {
          "output_type": "stream",
          "name": "stdout",
          "text": [
            "Accuracy: 64.90%\n"
          ]
        }
      ]
    }
  ]
}