{
  "nbformat": 4,
  "nbformat_minor": 0,
  "metadata": {
    "colab": {
      "provenance": []
    },
    "kernelspec": {
      "name": "python3",
      "display_name": "Python 3"
    },
    "language_info": {
      "name": "python"
    }
  },
  "cells": [
    {
      "cell_type": "code",
      "execution_count": null,
      "metadata": {
        "id": "5lvh4QAxmlIr"
      },
      "outputs": [],
      "source": [
        "import torch\n",
        "import torchvision\n",
        "import torch.nn as nn\n",
        "import torch.optim as optim\n",
        "import torchvision.transforms as transforms\n",
        "import matplotlib.pyplot as plt"
      ]
    },
    {
      "cell_type": "code",
      "source": [
        "train = torchvision.datasets.CIFAR10(root = './data',train = True, download = True,transform=transforms.ToTensor())\n",
        "train"
      ],
      "metadata": {
        "colab": {
          "base_uri": "https://localhost:8080/"
        },
        "id": "2wUg0IDwpKZi",
        "outputId": "e776e639-110f-492c-f8cc-5105ed9c10cb"
      },
      "execution_count": null,
      "outputs": [
        {
          "output_type": "stream",
          "name": "stdout",
          "text": [
            "Files already downloaded and verified\n"
          ]
        },
        {
          "output_type": "execute_result",
          "data": {
            "text/plain": [
              "Dataset CIFAR10\n",
              "    Number of datapoints: 50000\n",
              "    Root location: ./data\n",
              "    Split: Train\n",
              "    StandardTransform\n",
              "Transform: ToTensor()"
            ]
          },
          "metadata": {},
          "execution_count": 45
        }
      ]
    },
    {
      "cell_type": "code",
      "source": [
        "train[0]"
      ],
      "metadata": {
        "colab": {
          "base_uri": "https://localhost:8080/"
        },
        "id": "giVAkBPWq-30",
        "outputId": "dd1d3ece-2f77-4392-8baf-b5e87808c956"
      },
      "execution_count": null,
      "outputs": [
        {
          "output_type": "execute_result",
          "data": {
            "text/plain": [
              "(tensor([[[0.2314, 0.1686, 0.1961,  ..., 0.6196, 0.5961, 0.5804],\n",
              "          [0.0627, 0.0000, 0.0706,  ..., 0.4824, 0.4667, 0.4784],\n",
              "          [0.0980, 0.0627, 0.1922,  ..., 0.4627, 0.4706, 0.4275],\n",
              "          ...,\n",
              "          [0.8157, 0.7882, 0.7765,  ..., 0.6275, 0.2196, 0.2078],\n",
              "          [0.7059, 0.6784, 0.7294,  ..., 0.7216, 0.3804, 0.3255],\n",
              "          [0.6941, 0.6588, 0.7020,  ..., 0.8471, 0.5922, 0.4824]],\n",
              " \n",
              "         [[0.2431, 0.1804, 0.1882,  ..., 0.5176, 0.4902, 0.4863],\n",
              "          [0.0784, 0.0000, 0.0314,  ..., 0.3451, 0.3255, 0.3412],\n",
              "          [0.0941, 0.0275, 0.1059,  ..., 0.3294, 0.3294, 0.2863],\n",
              "          ...,\n",
              "          [0.6667, 0.6000, 0.6314,  ..., 0.5216, 0.1216, 0.1333],\n",
              "          [0.5451, 0.4824, 0.5647,  ..., 0.5804, 0.2431, 0.2078],\n",
              "          [0.5647, 0.5059, 0.5569,  ..., 0.7216, 0.4627, 0.3608]],\n",
              " \n",
              "         [[0.2471, 0.1765, 0.1686,  ..., 0.4235, 0.4000, 0.4039],\n",
              "          [0.0784, 0.0000, 0.0000,  ..., 0.2157, 0.1961, 0.2235],\n",
              "          [0.0824, 0.0000, 0.0314,  ..., 0.1961, 0.1961, 0.1647],\n",
              "          ...,\n",
              "          [0.3765, 0.1333, 0.1020,  ..., 0.2745, 0.0275, 0.0784],\n",
              "          [0.3765, 0.1647, 0.1176,  ..., 0.3686, 0.1333, 0.1333],\n",
              "          [0.4549, 0.3686, 0.3412,  ..., 0.5490, 0.3294, 0.2824]]]), 6)"
            ]
          },
          "metadata": {},
          "execution_count": 4
        }
      ]
    },
    {
      "cell_type": "code",
      "source": [
        "test = torchvision.datasets.CIFAR10(root = './data',train = False, download = True,transform=transforms.ToTensor())\n",
        "test"
      ],
      "metadata": {
        "colab": {
          "base_uri": "https://localhost:8080/"
        },
        "id": "EmZVm3fErXzL",
        "outputId": "843d2d89-fa9a-4fdc-ce8b-b85096c13855"
      },
      "execution_count": null,
      "outputs": [
        {
          "output_type": "stream",
          "name": "stdout",
          "text": [
            "Files already downloaded and verified\n"
          ]
        },
        {
          "output_type": "execute_result",
          "data": {
            "text/plain": [
              "Dataset CIFAR10\n",
              "    Number of datapoints: 10000\n",
              "    Root location: ./data\n",
              "    Split: Test\n",
              "    StandardTransform\n",
              "Transform: ToTensor()"
            ]
          },
          "metadata": {},
          "execution_count": 46
        }
      ]
    },
    {
      "cell_type": "code",
      "source": [
        "labels = [item[1] for item in train]\n",
        "num_classes = len(set(labels))\n",
        "print('Number of classes:', num_classes)"
      ],
      "metadata": {
        "colab": {
          "base_uri": "https://localhost:8080/"
        },
        "id": "rzrLzfCXry9q",
        "outputId": "373920a3-7636-49fe-87d1-a374e65f37e7"
      },
      "execution_count": null,
      "outputs": [
        {
          "output_type": "stream",
          "name": "stdout",
          "text": [
            "Number of classes: 10\n"
          ]
        }
      ]
    },
    {
      "cell_type": "code",
      "source": [
        "image, label = train[67]\n",
        "print('Shape:',image.shape, '\\Label:',label)"
      ],
      "metadata": {
        "colab": {
          "base_uri": "https://localhost:8080/"
        },
        "id": "Gg9zFJbttELP",
        "outputId": "6612f904-4e35-46fb-8d3c-b255ad859689"
      },
      "execution_count": null,
      "outputs": [
        {
          "output_type": "stream",
          "name": "stdout",
          "text": [
            "Shape: torch.Size([3, 32, 32]) \\Label: 9\n"
          ]
        }
      ]
    },
    {
      "cell_type": "code",
      "source": [
        "plt.imshow(image.T, interpolation='bicubic')  # the input of imshow should be (M,N,3) but we have (3,N,M)"
      ],
      "metadata": {
        "colab": {
          "base_uri": "https://localhost:8080/",
          "height": 284
        },
        "id": "zBzRyII9t4gw",
        "outputId": "18792a6a-8e62-4a25-897b-a8e600244e9a"
      },
      "execution_count": null,
      "outputs": [
        {
          "output_type": "execute_result",
          "data": {
            "text/plain": [
              "<matplotlib.image.AxesImage at 0x7efd57088820>"
            ]
          },
          "metadata": {},
          "execution_count": 19
        },
        {
          "output_type": "display_data",
          "data": {
            "text/plain": [
              "<Figure size 432x288 with 1 Axes>"
            ],
            "image/png": "[encoded data removed]"
          },
          "metadata": {
            "needs_background": "light"
          }
        }
      ]
    },
    {
      "cell_type": "code",
      "source": [
        "train_loader = torch.utils.data.DataLoader(train, batch_size=100,shuffle=True)\n",
        "test_loader = torch.utils.data.DataLoader(test, batch_size=100,shuffle=True)"
      ],
      "metadata": {
        "id": "PUy5PLUjvEdR"
      },
      "execution_count": null,
      "outputs": []
    },
    {
      "cell_type": "markdown",
      "source": [
        "**Neural Network Creation**"
      ],
      "metadata": {
        "id": "5EOfrkq5xb6G"
      }
    },
    {
      "cell_type": "code",
      "source": [
        "class ANN(nn.Module):\n",
        "  def __init__(self,input_size,hidden_size1,hidden_size2,num_classes):\n",
        "    super(ANN,self).__init__()\n",
        "    self.fc1 = nn.Linear(input_size,hidden_size1,bias = True)\n",
        "    self.relu = nn.ReLU()\n",
        "    self.fc2 = nn.Linear(hidden_size1,hidden_size2, bias=True)\n",
        "    self.relu = nn.ReLU()\n",
        "    self.output = nn.Linear(hidden_size2,num_classes, bias=True)\n",
        "  \n",
        "  def forward(self,x):\n",
        "    data = x.view(x.size(0),-1)\n",
        "    data = self.fc1(data)\n",
        "    data = self.relu(data)\n",
        "    data = self.fc2(data)\n",
        "    data = self.relu(data)\n",
        "    data = self.output(data)\n",
        "    return data\n"
      ],
      "metadata": {
        "id": "jHVPnnhexVmK"
      },
      "execution_count": null,
      "outputs": []
    },
    {
      "cell_type": "code",
      "source": [
        "x = torch.randn(2,3,4)\n",
        "out = x.view(x.size(0),-1)\n",
        "print(x.shape)\n",
        "print(out.shape)"
      ],
      "metadata": {
        "colab": {
          "base_uri": "https://localhost:8080/"
        },
        "id": "3eGfX9dt0pAa",
        "outputId": "d56a4303-e1cd-47ee-ad6e-8f835bf867d9"
      },
      "execution_count": null,
      "outputs": [
        {
          "output_type": "stream",
          "name": "stdout",
          "text": [
            "torch.Size([2, 3, 4])\n",
            "torch.Size([2, 12])\n"
          ]
        }
      ]
    },
    {
      "cell_type": "code",
      "source": [
        "input_size = 3*32*32\n",
        "hidden_size1 = 120\n",
        "hidden_size2 = 100\n",
        "num_classes = 10\n",
        "model = ANN(input_size,hidden_size1,hidden_size2,num_classes)"
      ],
      "metadata": {
        "id": "V6LfSiMc2I7h"
      },
      "execution_count": null,
      "outputs": []
    },
    {
      "cell_type": "code",
      "source": [
        "criterion = nn.CrossEntropyLoss()\n",
        "optimizer = optim.SGD(model.parameters(),lr = 0.01)"
      ],
      "metadata": {
        "id": "wdrTFKL12ue7"
      },
      "execution_count": null,
      "outputs": []
    },
    {
      "cell_type": "markdown",
      "source": [
        "**Training**"
      ],
      "metadata": {
        "id": "OtKrqAUO7REO"
      }
    },
    {
      "cell_type": "code",
      "source": [
        "loss_list = []\n",
        "accuracy_list = []\n",
        "\n",
        "for epoch in range(50):\n",
        "    epoch_loss = 0\n",
        "    for images,labels in train_loader:\n",
        "      outputs = model(images)\n",
        "      loss = criterion(outputs,labels)\n",
        "\n",
        "    optimizer.zero_grad()\n",
        "    loss.backward()\n",
        "    optimizer.step()\n",
        "\n",
        "    epoch_loss += loss.item()\n",
        "\n",
        "  loss_list.append(epoch_loss/len(train_loader))\n",
        "\n",
        "  with torch.no_grad():\n",
        "    correct = 0\n",
        "    total = 0\n",
        "    for images, labels in train_loader:\n",
        "      outputs = model(images)\n",
        "      _,predicted = torch.max(outputs.data,1)  #[-1.4,+0.01,...]\n",
        "      total += labels.size(0)\n",
        "      correct += (predicted == labels).sum().item()\n",
        "      accuracy = correct/total\n",
        "      accuracy_list.append(accuracy)\n",
        "\n",
        "    print('Epoch [{}/50] Training Accuracy: {:.4f}'.format(epoch+1, correct/total),'Loss: {:.4f}'.format(loss_list[-1]))\n",
        "    \n",
        "\n"
      ],
      "metadata": {
        "colab": {
          "base_uri": "https://localhost:8080/"
        },
        "id": "ZM6QtV9h7TPe",
        "outputId": "016be978-9063-4528-a4a1-c00af04319be"
      },
      "execution_count": null,
      "outputs": [
        {
          "output_type": "stream",
          "name": "stdout",
          "text": [
            "Epoch [1/50] Training Accuracy: 0.2633 Loss: 2.1795\n",
            "Epoch [2/50] Training Accuracy: 0.3002 Loss: 1.9811\n",
            "Epoch [3/50] Training Accuracy: 0.3351 Loss: 1.8955\n",
            "Epoch [4/50] Training Accuracy: 0.3540 Loss: 1.8446\n",
            "Epoch [5/50] Training Accuracy: 0.3608 Loss: 1.8019\n",
            "Epoch [6/50] Training Accuracy: 0.3786 Loss: 1.7650\n",
            "Epoch [7/50] Training Accuracy: 0.3897 Loss: 1.7332\n",
            "Epoch [8/50] Training Accuracy: 0.4050 Loss: 1.7052\n",
            "Epoch [9/50] Training Accuracy: 0.4128 Loss: 1.6774\n",
            "Epoch [10/50] Training Accuracy: 0.4070 Loss: 1.6510\n",
            "Epoch [11/50] Training Accuracy: 0.4259 Loss: 1.6288\n",
            "Epoch [12/50] Training Accuracy: 0.4415 Loss: 1.6053\n",
            "Epoch [13/50] Training Accuracy: 0.4485 Loss: 1.5866\n",
            "Epoch [14/50] Training Accuracy: 0.4485 Loss: 1.5688\n",
            "Epoch [15/50] Training Accuracy: 0.4556 Loss: 1.5520\n",
            "Epoch [16/50] Training Accuracy: 0.4686 Loss: 1.5361\n",
            "Epoch [17/50] Training Accuracy: 0.4715 Loss: 1.5219\n",
            "Epoch [18/50] Training Accuracy: 0.4715 Loss: 1.5099\n",
            "Epoch [19/50] Training Accuracy: 0.4823 Loss: 1.4947\n",
            "Epoch [20/50] Training Accuracy: 0.4789 Loss: 1.4839\n",
            "Epoch [21/50] Training Accuracy: 0.4768 Loss: 1.4700\n",
            "Epoch [22/50] Training Accuracy: 0.4884 Loss: 1.4594\n",
            "Epoch [23/50] Training Accuracy: 0.4979 Loss: 1.4488\n",
            "Epoch [24/50] Training Accuracy: 0.4975 Loss: 1.4374\n",
            "Epoch [25/50] Training Accuracy: 0.4947 Loss: 1.4302\n",
            "Epoch [26/50] Training Accuracy: 0.5040 Loss: 1.4157\n",
            "Epoch [27/50] Training Accuracy: 0.5094 Loss: 1.4077\n",
            "Epoch [28/50] Training Accuracy: 0.5154 Loss: 1.3982\n",
            "Epoch [29/50] Training Accuracy: 0.5204 Loss: 1.3896\n",
            "Epoch [30/50] Training Accuracy: 0.5209 Loss: 1.3822\n",
            "Epoch [31/50] Training Accuracy: 0.5047 Loss: 1.3731\n",
            "Epoch [32/50] Training Accuracy: 0.5264 Loss: 1.3644\n",
            "Epoch [33/50] Training Accuracy: 0.5363 Loss: 1.3563\n",
            "Epoch [34/50] Training Accuracy: 0.5276 Loss: 1.3496\n",
            "Epoch [35/50] Training Accuracy: 0.5422 Loss: 1.3419\n",
            "Epoch [36/50] Training Accuracy: 0.5343 Loss: 1.3341\n",
            "Epoch [37/50] Training Accuracy: 0.5297 Loss: 1.3268\n",
            "Epoch [38/50] Training Accuracy: 0.5455 Loss: 1.3214\n",
            "Epoch [39/50] Training Accuracy: 0.5396 Loss: 1.3134\n",
            "Epoch [40/50] Training Accuracy: 0.5421 Loss: 1.3082\n",
            "Epoch [41/50] Training Accuracy: 0.5329 Loss: 1.3002\n",
            "Epoch [42/50] Training Accuracy: 0.5399 Loss: 1.2923\n",
            "Epoch [43/50] Training Accuracy: 0.5602 Loss: 1.2903\n",
            "Epoch [44/50] Training Accuracy: 0.5506 Loss: 1.2830\n",
            "Epoch [45/50] Training Accuracy: 0.5630 Loss: 1.2755\n",
            "Epoch [46/50] Training Accuracy: 0.5609 Loss: 1.2712\n",
            "Epoch [47/50] Training Accuracy: 0.5696 Loss: 1.2638\n",
            "Epoch [48/50] Training Accuracy: 0.5639 Loss: 1.2589\n",
            "Epoch [49/50] Training Accuracy: 0.5619 Loss: 1.2512\n",
            "Epoch [50/50] Training Accuracy: 0.5711 Loss: 1.2468\n"
          ]
        }
      ]
    },
    {
      "cell_type": "code",
      "source": [
        "x = range(50)\n",
        "plt.plot(x,loss_list)\n",
        "plt.xlabel('iterations')\n",
        "plt.ylabel('Loss')\n",
        "plt.show()"
      ],
      "metadata": {
        "colab": {
          "base_uri": "https://localhost:8080/",
          "height": 279
        },
        "id": "W8B4fr7oGXzc",
        "outputId": "905f48b8-b490-41eb-88d5-c3c678506b92"
      },
      "execution_count": null,
      "outputs": [
        {
          "output_type": "display_data",
          "data": {
            "text/plain": [
              "<Figure size 432x288 with 1 Axes>"
            ],
            "image/png": "[encoded data removed]"
          },
          "metadata": {
            "needs_background": "light"
          }
        }
      ]
    },
    {
      "cell_type": "code",
      "source": [
        "#_,predicted = torch.max(outputs.data,1)\n",
        "# outputs.data"
      ],
      "metadata": {
        "colab": {
          "base_uri": "https://localhost:8080/"
        },
        "id": "SjHImCOrHW-C",
        "outputId": "b391066c-204e-4e45-89e3-5f89f9cbcd85"
      },
      "execution_count": null,
      "outputs": [
        {
          "output_type": "execute_result",
          "data": {
            "text/plain": [
              "tensor([[-1.6315e+00, -4.3580e+00, -1.0610e+00,  3.6782e+00, -7.3908e-01,\n",
              "          4.5962e+00,  3.0079e-01, -2.1142e+00,  1.7964e+00, -2.0565e+00],\n",
              "        [ 2.7260e+00, -4.6115e+00,  2.7451e-01,  2.5678e+00, -5.9064e-02,\n",
              "          1.2919e+00,  2.0308e+00, -1.6922e+00, -1.3620e+00, -1.6460e+00],\n",
              "        [ 1.1247e+00, -1.1789e+00,  1.7190e-01,  1.5222e+00,  4.0947e-01,\n",
              "          1.1170e+00,  5.2054e-01, -2.4717e+00,  8.7365e-01, -2.1196e+00],\n",
              "        [ 4.1680e+00,  1.1458e+01, -3.3714e+00, -3.1998e+00, -4.5285e+00,\n",
              "         -3.2964e+00, -7.4680e+00, -2.8064e+00,  4.1840e+00,  5.9725e+00],\n",
              "        [ 6.1712e+00,  8.9173e-01, -5.7652e-01,  8.0736e-02, -6.5294e-01,\n",
              "         -1.9574e+00, -6.6416e-01, -3.8865e+00,  7.3414e-01,  2.1321e-01],\n",
              "        [ 1.5283e+00, -1.7710e+00,  1.3532e+00,  4.8096e-01,  4.2218e-01,\n",
              "         -4.7313e-01,  9.5497e-01, -1.7854e+00, -5.7024e-02, -9.6792e-01],\n",
              "        [ 3.1961e+00,  1.2356e+00, -6.3998e-01, -1.3859e+00,  2.1138e-01,\n",
              "         -2.5117e+00, -2.5952e+00, -1.7189e+00,  2.8123e+00,  1.0949e+00],\n",
              "        [ 3.1062e+00,  9.3820e-01,  1.1186e+00, -1.0409e+00,  1.1675e+00,\n",
              "         -1.7655e+00, -3.2183e+00,  7.9514e-01, -2.6347e+00,  1.5771e+00],\n",
              "        [ 1.7524e+00, -4.5663e-01,  1.7943e+00, -2.9990e-01,  2.9370e-01,\n",
              "         -4.6786e-01, -1.6859e+00, -1.7826e+00,  1.3878e+00, -5.6655e-01],\n",
              "        [-1.0574e+00,  1.6332e+00, -2.7530e-01,  1.0769e+00,  7.6397e-01,\n",
              "         -1.6494e-01,  1.1583e+00, -2.8094e+00, -7.7620e-01,  4.8398e-01],\n",
              "        [ 2.3617e+00,  7.2478e+00, -7.9859e-01, -1.6591e+00, -2.5873e+00,\n",
              "         -2.4552e+00, -4.3048e+00, -2.1899e+00,  1.2361e+00,  3.6947e+00],\n",
              "        [ 4.0148e+00,  2.6350e+00, -1.4081e+00, -3.2950e+00,  2.1197e-01,\n",
              "         -4.2522e+00, -5.9136e+00, -2.3580e+00,  5.7698e+00,  3.5502e+00],\n",
              "        [ 3.5149e+00, -5.9404e-01,  6.5574e-02, -1.6695e+00,  2.7358e-01,\n",
              "         -2.8194e+00, -4.3398e+00, -1.4621e+00,  4.7687e+00,  1.1815e+00],\n",
              "        [-1.1262e+00,  2.4420e+00, -2.5132e+00,  6.5154e-01, -7.9647e-01,\n",
              "         -6.7165e-01, -1.1524e+00,  3.6515e-01, -2.3089e+00,  3.8068e+00],\n",
              "        [ 4.7341e+00,  1.0604e+00,  1.8826e-01, -2.8399e+00,  5.1252e-01,\n",
              "         -2.1675e+00, -3.9847e+00,  2.1367e+00,  6.6294e-02,  1.8735e-02],\n",
              "        [-1.5889e+00, -3.0845e+00,  3.4957e+00,  4.6191e+00, -1.5657e+00,\n",
              "          4.0847e+00, -2.2607e-02,  7.1685e-01, -5.5209e+00, -4.9730e-01],\n",
              "        [ 4.0276e-01, -3.3851e+00,  3.9190e+00,  8.1000e-01,  2.6299e+00,\n",
              "          5.7340e-01,  2.5431e+00, -1.4558e+00, -2.9456e+00, -2.3427e+00],\n",
              "        [ 2.9536e+00,  1.6326e-01, -3.1580e-01, -2.0649e-01, -2.1785e-01,\n",
              "         -1.6947e+00, -1.6357e+00, -2.6704e+00,  3.8093e+00, -8.3275e-01],\n",
              "        [ 7.8689e-01,  2.3977e+00, -8.7165e-02,  2.0817e+00, -1.7347e+00,\n",
              "          1.2449e+00,  2.8404e+00, -1.9392e+00, -5.5928e+00,  4.0226e-01],\n",
              "        [-1.4676e+00, -2.4781e+00,  1.3873e+00,  1.9332e+00, -9.6768e-01,\n",
              "          2.7725e+00,  1.6088e+00, -2.4754e-01, -2.6814e+00, -3.6314e-01],\n",
              "        [ 1.1882e+00, -7.7234e-01,  7.0372e-01, -2.4248e-01, -3.0882e-01,\n",
              "          6.9602e-01, -2.1665e+00,  3.2062e+00, -1.9771e+00,  1.4210e-01],\n",
              "        [-9.6240e-01,  5.3650e-01, -5.2726e-01,  2.5522e+00, -1.2604e+00,\n",
              "          2.1798e+00,  1.5354e+00, -8.7329e-01, -3.9007e+00, -6.0765e-02],\n",
              "        [-1.0970e+00, -2.6900e+00,  3.8002e+00,  2.8460e-01,  2.8719e+00,\n",
              "          8.2941e-01,  2.2239e+00,  8.0554e-02, -3.7480e+00, -1.8517e+00],\n",
              "        [ 3.5526e+00,  4.6762e-01,  4.1562e-01, -2.4450e-01,  7.5976e-01,\n",
              "         -2.1288e+00, -1.8750e+00, -2.7723e+00,  1.3604e+00,  1.9115e-01],\n",
              "        [-1.4083e+00, -1.3671e+00,  1.2815e+00,  1.1458e+00,  1.7692e+00,\n",
              "          6.4621e-01,  3.5171e+00, -1.6026e+00, -2.6604e+00, -1.6042e+00],\n",
              "        [-1.0554e+00, -2.2197e+00,  2.8547e+00,  2.1419e+00,  1.5606e+00,\n",
              "          1.3848e+00,  1.8409e+00, -1.8682e+00, -3.2580e+00, -1.1305e+00],\n",
              "        [ 1.0012e+00,  4.2187e+00, -1.6677e+00, -6.3135e-01, -1.0058e+00,\n",
              "          7.9619e-01, -3.1731e+00, -1.9413e+00,  6.1530e-01,  1.8735e+00],\n",
              "        [-3.8829e-01, -2.7529e+00, -6.5731e-01,  2.8149e+00, -6.6415e-01,\n",
              "          3.2675e+00, -3.5189e-01, -3.6093e+00,  3.6256e+00, -2.0565e+00],\n",
              "        [ 1.2436e+00,  1.7731e+00, -1.3604e+00, -1.1026e+00, -2.2521e-01,\n",
              "         -3.1727e+00, -3.2294e+00, -1.3164e+00,  1.8524e+00,  3.9547e+00],\n",
              "        [ 3.1500e-01,  1.9815e+00,  6.9883e-01, -4.6774e-01,  2.4331e-01,\n",
              "         -1.7702e+00, -3.0334e+00, -1.5078e+00,  1.3782e-01,  2.6060e+00],\n",
              "        [-7.2318e-02, -3.0277e+00,  1.7269e+00,  1.9964e+00,  2.2876e+00,\n",
              "          1.2776e+00,  2.7084e+00, -1.6283e+00, -3.4606e+00, -1.7289e+00],\n",
              "        [-4.1977e-01, -6.0522e-01,  2.4975e-02, -2.3968e-01,  2.4987e+00,\n",
              "         -1.0504e+00,  3.4172e+00, -9.7107e-01, -2.8689e+00, -2.3209e-01],\n",
              "        [ 3.1465e+00, -4.9336e-03,  1.1531e+00, -9.1967e-01,  1.2062e+00,\n",
              "         -2.6759e+00, -3.1053e+00, -1.7992e+00,  3.0184e+00, -4.8127e-01],\n",
              "        [ 1.2168e+00, -1.8908e+00,  2.7467e+00,  7.1052e-01,  3.2565e+00,\n",
              "         -1.6988e-01,  1.8185e+00,  8.2968e-03, -4.5160e+00, -2.8293e+00],\n",
              "        [ 2.0014e-02,  3.0785e+00, -4.7064e-01, -1.6380e+00, -3.2012e-01,\n",
              "         -1.7024e+00, -1.8551e+00, -1.5568e+00,  3.9954e+00,  1.3116e+00],\n",
              "        [-5.0474e-01, -3.7487e+00,  1.6149e+00,  1.1284e+00,  3.9143e+00,\n",
              "          1.1707e+00,  1.1742e-01,  1.6493e+00, -2.8334e+00, -2.4369e+00],\n",
              "        [-1.8333e+00, -3.1810e+00,  2.4901e+00,  3.4306e+00, -1.1820e+00,\n",
              "          3.2962e+00,  2.3380e+00, -8.4124e-01, -2.6845e+00, -2.5884e+00],\n",
              "        [ 1.3858e+00,  3.3007e-01, -3.7324e-01,  2.3468e+00, -7.8668e-01,\n",
              "          1.5429e+00,  1.8705e+00, -8.2908e-01, -4.8056e+00, -6.0587e-01],\n",
              "        [ 1.0276e+00, -8.7081e-01,  3.0347e-01,  1.7682e+00, -1.3437e+00,\n",
              "          9.8895e-01, -2.3956e+00,  1.5610e+00, -3.9652e+00,  2.9679e+00],\n",
              "        [-1.0697e+00, -1.2031e+00,  3.0095e+00,  1.5738e+00,  2.6547e+00,\n",
              "          1.6130e+00, -9.4441e-01,  9.2988e-01, -3.5493e+00, -1.9081e+00],\n",
              "        [-1.4621e+00, -2.2425e+00,  4.7240e-01,  2.1529e+00,  1.5620e+00,\n",
              "          1.2795e+00,  7.8916e-02,  1.8613e+00, -3.6371e+00, -1.2286e+00],\n",
              "        [ 5.1017e+00, -8.3945e-01,  1.5100e+00, -1.1777e-01,  3.3936e-01,\n",
              "         -6.9061e-01, -5.9910e+00,  5.8145e-01, -4.5785e-01, -2.9130e-02],\n",
              "        [-1.5612e+00, -1.6157e+00,  2.0267e-01,  2.3617e+00, -5.7742e-01,\n",
              "          7.3416e-01,  1.7211e+00,  5.4917e-01, -2.9595e+00,  2.6132e-01],\n",
              "        [-3.3594e+00, -2.7748e+00,  8.9931e-01,  2.5758e+00,  1.5062e+00,\n",
              "          2.7444e+00, -4.0976e+00,  3.0873e+00,  7.8201e-02, -8.7211e-01],\n",
              "        [-1.3254e+00, -3.8752e+00,  5.3296e-01,  1.6245e+00, -3.8086e-02,\n",
              "          3.1078e+00,  1.0162e+00,  1.0424e+00, -5.4735e-01, -1.7678e+00],\n",
              "        [ 3.2030e+00, -6.3038e-01, -8.1904e-01, -1.0114e+00, -1.1155e+00,\n",
              "         -1.3118e-01, -3.4625e+00,  6.0026e+00, -2.3388e+00,  1.1014e-01],\n",
              "        [ 7.7717e-01,  1.5814e+00, -9.4130e-01, -5.7068e-01, -2.4370e+00,\n",
              "          1.0117e+00, -1.7591e+00, -2.6418e-01,  1.4137e+00,  1.6672e+00],\n",
              "        [ 5.1227e+00,  1.4044e+00,  4.0869e-03, -1.9327e+00,  4.1488e-01,\n",
              "         -3.4166e+00, -5.4120e+00, -1.8230e+00,  4.4149e+00,  1.3342e+00],\n",
              "        [ 1.3551e+00,  1.8334e+00, -3.3933e-01, -3.7355e-01,  1.0670e+00,\n",
              "         -2.2755e+00, -7.3705e-01, -2.4388e+00,  1.0002e+00,  8.3376e-01],\n",
              "        [-2.0724e+00, -3.0130e+00,  9.6887e-01,  1.7082e+00,  1.2117e+00,\n",
              "          1.4975e+00,  3.6478e+00, -2.1932e+00, -7.7011e-02, -2.6575e+00],\n",
              "        [ 5.9500e-01, -1.7465e+00,  1.4039e+00,  1.1397e+00,  9.3626e-01,\n",
              "          3.6473e-01, -1.3776e+00, -7.0371e-01,  4.3705e-01, -1.3454e+00],\n",
              "        [ 3.5286e-01, -2.9973e+00,  1.7897e+00,  2.1750e+00,  4.6920e-01,\n",
              "          2.7949e-01,  1.3861e+00, -2.1221e+00, -1.1933e+00,  3.9001e-02],\n",
              "        [-7.2056e-01, -1.2879e+00,  9.4323e-01,  9.0808e-01, -3.2502e-01,\n",
              "          1.3458e-01, -1.4584e-01,  1.0385e+00, -2.2236e+00,  1.2802e+00],\n",
              "        [ 1.9034e+00,  6.1797e+00, -1.1507e+00, -1.5264e+00, -1.9865e+00,\n",
              "         -1.3791e+00, -5.1028e+00, -1.5975e+00,  1.3494e+00,  2.6794e+00],\n",
              "        [-5.0913e-01, -2.0687e+00,  6.5700e-01,  1.0493e+00, -1.4458e-01,\n",
              "          6.3273e-01,  1.1568e+00,  2.2176e+00, -2.1098e+00, -1.3468e+00],\n",
              "        [-4.0765e-01, -1.7999e+00,  1.9830e+00,  1.5319e+00,  2.7087e+00,\n",
              "          2.5264e+00, -1.4326e+00,  4.1299e-01, -2.0481e+00, -2.8056e+00],\n",
              "        [-3.0084e+00, -7.4934e+00,  3.6895e+00,  5.5036e+00, -6.4373e-01,\n",
              "          4.6212e+00,  6.3804e-01, -1.1368e-01, -1.3845e+00, -3.3784e+00],\n",
              "        [ 9.5616e-01, -2.9709e+00,  3.9126e+00,  5.0580e-01,  4.9448e+00,\n",
              "          1.3198e-01,  3.1016e+00, -1.3942e+00, -4.7744e+00, -3.7920e+00],\n",
              "        [ 3.8103e-02, -9.2387e-01,  2.9145e-01,  2.8881e+00, -8.3305e-01,\n",
              "          2.1793e+00,  2.6876e+00, -4.2169e-01, -4.9207e+00, -7.2174e-01],\n",
              "        [ 3.8489e-01,  4.8604e+00,  2.4619e-01, -1.6748e+00, -1.0602e+00,\n",
              "         -3.0078e+00, -1.7709e+00, -1.9386e+00,  9.9265e-01,  2.0263e+00],\n",
              "        [ 2.6742e+00,  1.0302e+01, -3.6798e+00,  2.9504e-01, -5.0543e+00,\n",
              "         -2.5740e+00, -4.3890e+00, -6.9647e+00,  1.8407e+00,  7.9314e+00],\n",
              "        [ 9.2722e-01,  5.9158e-02,  1.6762e+00,  1.9945e-02,  7.2720e-01,\n",
              "          1.9945e+00,  1.1686e-01,  6.4501e-01, -2.8693e+00, -2.0100e+00],\n",
              "        [ 1.6706e+00, -4.0693e-01,  1.0921e+00,  1.2160e+00,  7.6622e-01,\n",
              "         -1.4620e-02, -1.7670e+00, -5.5101e-01, -1.5064e+00, -4.3221e-01],\n",
              "        [-2.7888e+00, -2.6314e+00,  9.9964e-01,  4.6315e+00, -2.3284e+00,\n",
              "          3.9721e+00, -2.1411e+00, -1.1124e+00,  1.5361e+00, -1.7321e+00],\n",
              "        [ 2.3075e-01,  4.6104e+00, -4.1229e+00,  9.0213e-01, -1.6333e+00,\n",
              "         -1.2969e+00, -1.5514e+00, -4.5193e+00,  1.0358e+00,  5.0576e+00],\n",
              "        [ 2.5409e-01, -3.8861e+00,  2.0427e+00, -1.0619e-01,  3.2367e+00,\n",
              "          1.2112e+00, -1.2943e+00,  5.4091e+00, -4.2640e+00, -2.4168e+00],\n",
              "        [-1.5402e+00, -3.6729e+00,  1.6325e+00,  3.8915e+00,  1.8951e+00,\n",
              "          2.2304e+00,  1.3929e+00, -2.2577e+00, -4.2945e-01, -3.7328e+00],\n",
              "        [-6.1774e-01,  3.5601e-01, -1.3255e+00,  9.1480e-01, -2.2065e-01,\n",
              "         -3.7407e-01, -6.4246e-01,  6.5792e-02, -1.7577e-01,  1.2396e+00],\n",
              "        [ 7.6855e-01, -1.3815e+00,  1.3247e+00,  7.7385e-01,  8.1769e-01,\n",
              "          1.6834e+00, -2.8746e+00,  3.1064e+00, -2.4428e+00, -1.0250e+00],\n",
              "        [-1.4030e+00, -4.9800e-01,  1.1990e+00,  8.6063e-01, -1.0685e+00,\n",
              "          2.3777e+00, -1.4021e+00,  4.7813e+00, -4.6024e+00, -3.3408e-01],\n",
              "        [-6.5797e-01, -1.9962e+00,  6.8199e-01,  9.3618e-01,  4.5357e+00,\n",
              "         -5.5885e-01,  5.0264e+00,  1.4179e-01, -4.5853e+00, -4.4074e+00],\n",
              "        [ 2.4875e+00,  3.7783e+00, -2.0514e+00,  3.6035e-01, -1.2114e+00,\n",
              "         -1.6006e+00, -1.1460e+00, -4.3718e+00,  2.0194e+00,  1.2223e+00],\n",
              "        [-1.1667e+00, -2.3289e+00, -3.0945e-01,  2.8059e+00, -6.0257e-01,\n",
              "          2.3653e+00,  1.3779e+00, -1.4146e+00, -3.7810e-01, -1.1959e+00],\n",
              "        [ 7.0166e-01, -8.7879e-01,  1.0974e+00,  3.7142e-01,  1.8723e+00,\n",
              "          5.8178e-01,  1.0049e+00, -1.5639e+00, -8.0055e-01, -1.4697e+00],\n",
              "        [-1.0385e+00, -2.5770e+00,  1.0647e+00,  3.8361e+00,  4.1047e-01,\n",
              "          3.9282e+00, -1.1032e+00, -2.1025e+00, -4.6745e-01, -1.7611e+00],\n",
              "        [ 3.0189e+00, -6.9271e-01, -1.5618e-01, -1.1166e+00,  1.9977e+00,\n",
              "         -1.4263e+00, -2.3671e+00,  2.3163e-01,  2.3471e-01, -2.2963e-01],\n",
              "        [ 3.1290e+00, -3.4844e+00,  2.0441e+00, -1.0966e-01,  2.8218e+00,\n",
              "         -8.6048e-02, -2.9784e-01,  2.4167e+00, -3.3087e+00, -2.9272e+00],\n",
              "        [ 1.5817e-01, -1.1973e+00,  2.2471e+00,  9.4521e-02,  2.9355e+00,\n",
              "         -1.3106e-01,  4.9298e-01,  4.7500e-01, -2.7804e+00, -1.7022e+00],\n",
              "        [-5.6253e-01, -8.2424e-01, -8.2377e-01,  6.7581e-01, -6.1340e-01,\n",
              "         -9.2855e-01, -8.5323e-01,  3.5183e-01,  6.1455e-02,  2.7590e+00],\n",
              "        [ 2.2114e-01, -4.9659e+00,  3.3532e+00,  6.2495e-01,  2.3434e+00,\n",
              "          1.2163e+00,  2.4643e+00,  1.9346e+00, -3.9495e+00, -3.0073e+00],\n",
              "        [ 5.2649e-01,  1.8466e+00, -2.8090e-01, -6.7471e-01, -1.9540e+00,\n",
              "         -1.9423e+00, -4.1583e+00, -1.9336e+00,  1.5915e+00,  5.9994e+00],\n",
              "        [-2.7500e+00, -4.1497e+00,  2.5471e+00,  3.3120e+00,  6.1295e-01,\n",
              "          3.6289e+00,  3.0831e+00, -1.9675e+00, -3.1022e+00, -1.6463e+00],\n",
              "        [ 4.8722e+00,  1.7930e-02,  1.0819e+00,  8.4315e-01,  2.0964e-01,\n",
              "          1.6633e-01, -2.5410e+00, -2.7985e+00,  7.0185e-01, -2.0141e+00],\n",
              "        [ 3.7112e+00, -8.5856e-01,  2.4944e-01, -8.7207e-01,  6.3838e-01,\n",
              "         -1.2960e+00, -1.4039e+00, -1.9945e+00,  2.3850e+00, -7.0782e-01],\n",
              "        [-3.1656e+00, -3.9005e+00,  1.3765e+00,  7.3977e-01,  2.5999e+00,\n",
              "          1.0243e+00,  4.1116e+00,  6.0467e-01, -3.2375e+00, -1.3375e+00],\n",
              "        [-1.7506e+00, -3.0274e+00,  8.2879e-01,  1.8775e+00,  3.4442e+00,\n",
              "          1.3699e+00,  5.6743e-01,  5.5177e-01, -2.9998e+00, -1.4085e+00],\n",
              "        [ 9.9630e-02,  6.0750e+00, -1.4613e+00, -5.0424e-01, -1.4387e+00,\n",
              "         -1.6815e+00, -1.8927e+00, -3.1479e+00,  9.8424e-02,  3.5060e+00],\n",
              "        [-1.0990e+00, -1.9801e+00,  1.0890e+00,  1.4773e+00,  4.1663e-01,\n",
              "          4.7728e-01,  1.9079e+00,  9.3411e-03, -1.7363e+00, -3.9441e-01],\n",
              "        [-3.4020e+00, -2.0246e+00, -6.9178e-02,  2.6587e+00, -7.0445e-01,\n",
              "          3.2395e+00,  6.4219e-01,  2.9495e-01, -7.5508e-01, -8.9462e-01],\n",
              "        [-3.0708e+00,  1.1002e+00,  1.5776e+00,  3.3035e+00, -3.1686e+00,\n",
              "          3.6750e+00,  9.5080e-01, -1.3251e+00, -3.8568e+00,  1.3346e+00],\n",
              "        [-2.1426e+00, -7.3532e-01,  8.3591e-01,  6.7779e-01,  4.1446e+00,\n",
              "         -1.5632e-01,  2.7301e+00, -3.3694e+00, -7.7523e-01, -2.0976e+00],\n",
              "        [ 5.0825e+00,  2.5401e+00, -2.8280e+00, -1.9406e+00,  1.0414e-01,\n",
              "         -3.3091e+00, -5.7038e+00, -2.3126e+00,  6.0500e+00,  3.8431e-01],\n",
              "        [ 3.2197e+00, -1.5482e-01,  1.1815e+00, -9.5375e-01,  4.6157e-01,\n",
              "         -2.6745e+00, -3.1952e+00, -2.8621e+00,  4.0409e+00, -1.8132e-02],\n",
              "        [ 4.9599e+00, -2.7887e+00,  2.5497e+00, -1.9007e+00,  2.2757e+00,\n",
              "         -2.6650e+00, -2.7946e+00, -3.0102e+00,  5.2999e+00, -3.3234e+00],\n",
              "        [ 5.8277e-01,  6.6118e-01, -8.5676e-01,  2.3032e-01, -3.6903e-01,\n",
              "         -1.9321e+00, -1.8980e+00, -2.6610e+00,  1.1145e+00,  4.4495e+00],\n",
              "        [-4.3679e-01, -1.0379e+00,  7.1802e-01,  7.9884e-01,  1.1582e+00,\n",
              "          1.0193e+00, -9.4211e-01,  2.8605e+00, -3.8687e+00, -7.4595e-01],\n",
              "        [ 5.3961e-01, -1.0681e+00,  1.3240e+00,  2.3488e-01,  2.1046e+00,\n",
              "          5.9334e-02,  5.1624e-01, -2.3078e+00,  1.4328e+00, -2.2353e+00],\n",
              "        [ 2.6272e+00, -2.4759e+00,  1.3755e+00,  1.3482e+00,  6.4907e-01,\n",
              "          1.5984e-01,  1.7046e+00, -2.0360e+00, -1.2687e+00, -2.0925e+00],\n",
              "        [ 2.7637e+00,  6.4895e-01,  1.1917e+00,  3.7123e-01, -1.0821e+00,\n",
              "          2.1094e+00,  1.6113e-01,  8.2504e-01, -4.5503e+00, -1.3097e+00],\n",
              "        [-2.2788e+00, -1.3050e+00, -2.2735e-01,  2.7029e+00,  1.6529e+00,\n",
              "          1.7183e+00,  6.8981e-01, -6.2484e-01, -1.0189e+00, -2.3408e+00]])"
            ]
          },
          "metadata": {},
          "execution_count": 61
        }
      ]
    },
    {
      "cell_type": "markdown",
      "source": [
        "**Testing**"
      ],
      "metadata": {
        "id": "VxB5CmN0H_00"
      }
    },
    {
      "cell_type": "code",
      "source": [
        "with torch.no_grad():\n",
        "  correct = 0\n",
        "  total = 0\n",
        "  for images, labels in test_loader:\n",
        "    outputs = model(images)\n",
        "    _,predicted = torch.max(outputs.data,1)\n",
        "    total += labels.size(0)\n",
        "    correct += (predicted == labels).sum().item()\n",
        "  print('Test Accuracy: {:.4f}'.format(correct/total))"
      ],
      "metadata": {
        "colab": {
          "base_uri": "https://localhost:8080/"
        },
        "id": "y3OUQm44H3p1",
        "outputId": "7bad8c71-665a-4326-eda4-86b6adc2e67a"
      },
      "execution_count": null,
      "outputs": [
        {
          "output_type": "stream",
          "name": "stdout",
          "text": [
            "Test Accuracy: 0.5203\n"
          ]
        }
      ]
    },
    {
      "cell_type": "markdown",
      "source": [
        "**Confusion Matrix**"
      ],
      "metadata": {
        "id": "5VQRLguIJl-g"
      }
    },
    {
      "cell_type": "code",
      "source": [
        "from sklearn.metrics import confusion_matrix\n",
        "\n",
        "model.eval()\n",
        "with torch.no_grad():\n",
        "  correct = 0\n",
        "  total = 0\n",
        "  confusion_matrix = torch.zeros(10,10)\n",
        "  for images, labels in test_loader:\n",
        "    outputs = model(images)\n",
        "    _,predicted = torch.max(outputs.data,1)\n",
        "    total += labels.size(0)\n",
        "    correct += (predicted == labels).sum().item()\n",
        "    for i,j in zip(predicted,labels):\n",
        "      confusion_matrix[i][j] += 1\n",
        "confusion_matrix = confusion_matrix.numpy().astype(int)\n",
        "print('Confusion Matrix')\n",
        "print(confusion_matrix)"
      ],
      "metadata": {
        "id": "QqY7EGxLIl0q"
      },
      "execution_count": null,
      "outputs": []
    }
  ]
}